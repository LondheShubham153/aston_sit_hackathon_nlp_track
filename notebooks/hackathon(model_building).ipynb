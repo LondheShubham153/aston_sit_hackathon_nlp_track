{
  "nbformat": 4,
  "nbformat_minor": 0,
  "metadata": {
    "colab": {
      "name": "hackathon(model_building).ipynb",
      "provenance": [],
      "collapsed_sections": []
    },
    "kernelspec": {
      "name": "python3",
      "display_name": "Python 3"
    },
    "language_info": {
      "name": "python"
    }
  },
  "cells": [
    {
      "cell_type": "markdown",
      "source": [
        "## Model Building"
      ],
      "metadata": {
        "id": "NXqT_Jcgt_7m"
      }
    },
    {
      "cell_type": "markdown",
      "source": [
        "## Packages and Imports"
      ],
      "metadata": {
        "id": "M5ayUyqmt9Dz"
      }
    },
    {
      "cell_type": "code",
      "execution_count": null,
      "metadata": {
        "colab": {
          "base_uri": "https://localhost:8080/"
        },
        "id": "S9reJOg51bEU",
        "outputId": "5ea901fc-0116-4ace-a05a-b3c78fb6410f"
      },
      "outputs": [
        {
          "output_type": "stream",
          "name": "stdout",
          "text": [
            "[nltk_data] Downloading package stopwords to /root/nltk_data...\n",
            "[nltk_data]   Package stopwords is already up-to-date!\n",
            "Drive already mounted at /content/drive; to attempt to forcibly remount, call drive.mount(\"/content/drive\", force_remount=True).\n"
          ]
        }
      ],
      "source": [
        "import numpy as np\n",
        "import pandas as pd\n",
        "import nltk\n",
        "from nltk.corpus import stopwords\n",
        "import string\n",
        "nltk.download('stopwords')\n",
        "\n",
        "from sklearn.feature_extraction.text import CountVectorizer,TfidfTransformer\n",
        "from sklearn.model_selection import train_test_split\n",
        "from sklearn.linear_model import LogisticRegression\n",
        "from sklearn.svm import SVC\n",
        "from sklearn.tree import DecisionTreeClassifier\n",
        "from sklearn.neighbors import KNeighborsClassifier\n",
        "from sklearn.linear_model import LogisticRegression\n",
        "from sklearn.metrics import f1_score\n",
        "from sklearn.metrics import classification_report\n",
        "import seaborn as sns\n",
        "import zipfile\n",
        "from google.colab import drive\n",
        "import pandas as pd\n",
        "import glob\n",
        "import os\n",
        "import datetime\n",
        "\n",
        "drive.mount('/content/drive')"
      ]
    },
    {
      "cell_type": "code",
      "source": [
        "dataset_path = \"/content/drive/MyDrive/disaster_dataset\"\n",
        "zip_ref = zipfile.ZipFile(f\"{dataset_path}/Natural-Hazards-Twitter-Dataset-master.zip\", 'r')\n",
        "zip_ref.extractall(f\"{dataset_path}/extracted\")\n",
        "zip_ref.close()"
      ],
      "metadata": {
        "id": "29BghZkU2Gp-"
      },
      "execution_count": null,
      "outputs": []
    },
    {
      "cell_type": "code",
      "source": [
        "path = f\"{dataset_path}/extracted/Natural-Hazards-Twitter-Dataset-master\" # use your path\n",
        "all_files = glob.glob(f\"{path}/*.csv\")\n",
        "files_dict = {}\n",
        "for i in range(len(all_files)):\n",
        "  files_dict.update({all_files[i].split('/')[7].split('.')[0] : all_files[i]})"
      ],
      "metadata": {
        "id": "2L5xVuMi2dzs"
      },
      "execution_count": null,
      "outputs": []
    },
    {
      "cell_type": "code",
      "source": [
        "final_df = pd.read(\"final_cleaned_data.csv\")"
      ],
      "metadata": {
        "id": "Yz2F2n5f7JQT"
      },
      "execution_count": null,
      "outputs": []
    },
    {
      "cell_type": "code",
      "source": [
        "class PreProcessor:\n",
        "\n",
        "  def remove_punctuation(self, record):\n",
        "\n",
        "    cleaned_str = [char for char in record if char not in string.punctuation]\n",
        "    return ''.join(cleaned_str)\n",
        "  \n",
        "  def normalize_sentences(self, sentences):\n",
        "    words = sentences.split(\" \")\n",
        "    return [word.lower() for word in words]\n",
        "\n",
        "  def remove_stopwords(self,words):\n",
        "    return [word for word in words if word not in stopwords.words(\"english\")]\n",
        "\n",
        "  def process(self, record):\n",
        "      # Remove Punctuation\n",
        "      sentences = self.remove_punctuation(record)\n",
        "      \n",
        "      # Normalize\n",
        "      norm_words = self.normalize_sentences(sentences)\n",
        "      \n",
        "      # Remove Stopwords\n",
        "      final_words = self.remove_stopwords(norm_words)\n",
        "      \n",
        "      return final_words"
      ],
      "metadata": {
        "id": "6r_kSXiN7cUk"
      },
      "execution_count": null,
      "outputs": []
    },
    {
      "cell_type": "code",
      "source": [
        "processor = PreProcessor()\n",
        "processor.process(\"Hey! Welcome to Train With Shubham channel! You will be learning a lot of cool stuff.\")"
      ],
      "metadata": {
        "colab": {
          "base_uri": "https://localhost:8080/"
        },
        "id": "LPh51Ika7eqO",
        "outputId": "f1a11af4-ba5e-4316-cd35-e7b453f7f410"
      },
      "execution_count": null,
      "outputs": [
        {
          "output_type": "execute_result",
          "data": {
            "text/plain": [
              "['hey',\n",
              " 'welcome',\n",
              " 'train',\n",
              " 'shubham',\n",
              " 'channel',\n",
              " 'learning',\n",
              " 'lot',\n",
              " 'cool',\n",
              " 'stuff']"
            ]
          },
          "metadata": {},
          "execution_count": 29
        }
      ]
    },
    {
      "cell_type": "code",
      "source": [
        "# class count\n",
        "class_count_0, class_count_1 = final_df['label'].value_counts()\n",
        "\n",
        "# Separate class\n",
        "class_0 = final_df[final_df['label'] == 0]\n",
        "class_1 = final_df[final_df['label'] == 1]# print the shape of the class\n",
        "print('class 0:', class_0.shape)\n",
        "print('class 1:', class_1.shape)"
      ],
      "metadata": {
        "colab": {
          "base_uri": "https://localhost:8080/"
        },
        "id": "-5pOy5sWAsvL",
        "outputId": "7a1307dd-3b79-47fa-99ce-90f200a00395"
      },
      "execution_count": null,
      "outputs": [
        {
          "output_type": "stream",
          "name": "stdout",
          "text": [
            "class 0: (8936, 5)\n",
            "class 1: (28880, 5)\n"
          ]
        }
      ]
    },
    {
      "cell_type": "code",
      "source": [
        "class_0_under = class_1.sample(class_count_1)\n",
        "\n",
        "test_under = pd.concat([class_0_under, class_0], axis=0)\n",
        "\n",
        "print(\"total class of 1 and0:\",test_under['label'].value_counts())# plot the count after under-sampeling\n",
        "test_under['label'].value_counts().plot(kind='bar', title='count (target)')"
      ],
      "metadata": {
        "colab": {
          "base_uri": "https://localhost:8080/",
          "height": 347
        },
        "id": "Idn_6wU8BBYO",
        "outputId": "9e11fcf7-0673-42b8-c2b1-55dc205a2966"
      },
      "execution_count": null,
      "outputs": [
        {
          "output_type": "stream",
          "name": "stdout",
          "text": [
            "total class of 1 and0: 1    8936\n",
            "0    8936\n",
            "Name: label, dtype: int64\n"
          ]
        },
        {
          "output_type": "execute_result",
          "data": {
            "text/plain": [
              "<matplotlib.axes._subplots.AxesSubplot at 0x7fce5414dfd0>"
            ]
          },
          "metadata": {},
          "execution_count": 85
        },
        {
          "output_type": "display_data",
          "data": {
            "text/plain": [
              "<Figure size 432x288 with 1 Axes>"
            ],
            "image/png": "[encoded data removed]"
          },
          "metadata": {
            "needs_background": "light"
          }
        }
      ]
    },
    {
      "cell_type": "code",
      "source": [
        "test_under = test_under.drop([\"num\",\"timestamp\",\"cleaned_timestamp\"],axis=1)"
      ],
      "metadata": {
        "id": "JRFk0Lj9BvbP"
      },
      "execution_count": null,
      "outputs": []
    },
    {
      "cell_type": "code",
      "source": [
        "features = test_under.iloc[:,0].values\n",
        "label = test_under.iloc[:,[1]].values"
      ],
      "metadata": {
        "id": "LpkGMZwyBlSV"
      },
      "execution_count": null,
      "outputs": []
    },
    {
      "cell_type": "code",
      "source": [
        "#Initialize Count Vectorizer with our custom preprocessing function\n",
        "word_vector = CountVectorizer(analyzer=processor.process)\n",
        "#Build Vocab\n",
        "final_word_vocab = word_vector.fit(features)"
      ],
      "metadata": {
        "id": "_tPNtgvO7ngZ"
      },
      "execution_count": null,
      "outputs": []
    },
    {
      "cell_type": "code",
      "source": [
        "bag_of_words = final_word_vocab.transform(features)\n",
        "bag_of_words"
      ],
      "metadata": {
        "colab": {
          "base_uri": "https://localhost:8080/"
        },
        "id": "SsJgSmZp8SqB",
        "outputId": "c0595065-a903-4b9b-dc20-7b72dbfcd4a9"
      },
      "execution_count": null,
      "outputs": [
        {
          "output_type": "execute_result",
          "data": {
            "text/plain": [
              "<17872x32099 sparse matrix of type '<class 'numpy.int64'>'\n",
              "\twith 248636 stored elements in Compressed Sparse Row format>"
            ]
          },
          "metadata": {},
          "execution_count": 95
        }
      ]
    },
    {
      "cell_type": "code",
      "source": [
        "#Calculating TF and IDF\n",
        "\n",
        "tfIdf_obj = TfidfTransformer().fit(bag_of_words)\n",
        "\n",
        "#Transform data (Calc Weights )\n",
        "final_feature = tfIdf_obj.transform(bag_of_words)"
      ],
      "metadata": {
        "id": "yhR8xx8T7qlQ"
      },
      "execution_count": null,
      "outputs": []
    },
    {
      "cell_type": "code",
      "source": [
        "class ModelBuilder:\n",
        "  def __init__(self):\n",
        "    self.names = [\n",
        "    \"Nearest Neighbors\",\n",
        "    \"Linear SVM\",\n",
        "    \"Decision Tree\",\n",
        "    \"Logistic_Regression\"]\n",
        "\n",
        "    self.classifiers = [\n",
        "    KNeighborsClassifier(3),\n",
        "    SVC(kernel=\"linear\", C=0.025),\n",
        "    DecisionTreeClassifier(max_depth=5),\n",
        "    LogisticRegression()]\n",
        "\n",
        "\n",
        "  def split_test_train(self, features,labels,size,state):\n",
        "    X_train,X_test,y_train,y_test = train_test_split(features,\n",
        "                                                label,\n",
        "                                                test_size=size,\n",
        "                                                random_state=state)\n",
        "    return (X_train,X_test,y_train,y_test)\n",
        "\n",
        "  def choose_best_model(self,X_test,X_train,y_test,y_train):\n",
        "    scores = []\n",
        "    best_model = self.classifiers[0]\n",
        "    best_score = 0\n",
        "    for name, clf in zip(self.names,self.classifiers):\n",
        "      clf.fit(X_train,y_train)\n",
        "      score = clf.score(X_test,y_test)\n",
        "      scores.append(score)\n",
        "      if score > best_score:\n",
        "        best_model = clf\n",
        "        best_score = score\n",
        "    model_scores_df = pd.DataFrame()\n",
        "    model_scores_df['Algorithm'] = self.names\n",
        "    model_scores_df['Score'] = scores\n",
        "\n",
        "    cm = sns.light_palette('orange',as_cmap=True)\n",
        "    model_scores = model_scores_df.style.background_gradient(cmap=cm)\n",
        "    print(f\"The model that will perform well with {best_model}\")\n",
        "    return model_scores, best_model"
      ],
      "metadata": {
        "id": "nKZ0gVDs8voX"
      },
      "execution_count": null,
      "outputs": []
    },
    {
      "cell_type": "code",
      "source": [
        "models = ModelBuilder()\n",
        "X_test,X_train,y_test,y_train = models.split_test_train(final_feature,label,0.2,6)\n",
        "scores,model = models.choose_best_model(X_test,X_train,y_test,y_train)\n",
        "model.fit(X_train,y_train)\n",
        "scores"
      ],
      "metadata": {
        "colab": {
          "base_uri": "https://localhost:8080/",
          "height": 351
        },
        "id": "WC5sR9By8zj7",
        "outputId": "e250c1c8-7322-4b39-d319-d0648c6d2be3"
      },
      "execution_count": null,
      "outputs": [
        {
          "output_type": "stream",
          "name": "stderr",
          "text": [
            "/usr/local/lib/python3.7/dist-packages/sklearn/neighbors/_classification.py:198: DataConversionWarning: A column-vector y was passed when a 1d array was expected. Please change the shape of y to (n_samples,), for example using ravel().\n",
            "  return self._fit(X, y)\n",
            "/usr/local/lib/python3.7/dist-packages/sklearn/utils/validation.py:993: DataConversionWarning: A column-vector y was passed when a 1d array was expected. Please change the shape of y to (n_samples, ), for example using ravel().\n",
            "  y = column_or_1d(y, warn=True)\n",
            "/usr/local/lib/python3.7/dist-packages/sklearn/utils/validation.py:993: DataConversionWarning: A column-vector y was passed when a 1d array was expected. Please change the shape of y to (n_samples, ), for example using ravel().\n",
            "  y = column_or_1d(y, warn=True)\n"
          ]
        },
        {
          "output_type": "stream",
          "name": "stdout",
          "text": [
            "The model that will perform well with LogisticRegression()\n"
          ]
        },
        {
          "output_type": "stream",
          "name": "stderr",
          "text": [
            "/usr/local/lib/python3.7/dist-packages/sklearn/utils/validation.py:993: DataConversionWarning: A column-vector y was passed when a 1d array was expected. Please change the shape of y to (n_samples, ), for example using ravel().\n",
            "  y = column_or_1d(y, warn=True)\n"
          ]
        },
        {
          "output_type": "execute_result",
          "data": {
            "text/plain": [
              "<pandas.io.formats.style.Styler at 0x7fce546217d0>"
            ],
            "text/html": [
              "<style type=\"text/css\">\n",
              "#T_f8e09_row0_col1 {\n",
              "  background-color: #fbbd4b;\n",
              "  color: #000000;\n",
              "}\n",
              "#T_f8e09_row1_col1 {\n",
              "  background-color: #f3f0ee;\n",
              "  color: #000000;\n",
              "}\n",
              "#T_f8e09_row2_col1 {\n",
              "  background-color: #fbbf53;\n",
              "  color: #000000;\n",
              "}\n",
              "#T_f8e09_row3_col1 {\n",
              "  background-color: #ffa500;\n",
              "  color: #000000;\n",
              "}\n",
              "</style>\n",
              "<table id=\"T_f8e09_\" class=\"dataframe\">\n",
              "  <thead>\n",
              "    <tr>\n",
              "      <th class=\"blank level0\" >&nbsp;</th>\n",
              "      <th class=\"col_heading level0 col0\" >Algorithm</th>\n",
              "      <th class=\"col_heading level0 col1\" >Score</th>\n",
              "    </tr>\n",
              "  </thead>\n",
              "  <tbody>\n",
              "    <tr>\n",
              "      <th id=\"T_f8e09_level0_row0\" class=\"row_heading level0 row0\" >0</th>\n",
              "      <td id=\"T_f8e09_row0_col0\" class=\"data row0 col0\" >Nearest Neighbors</td>\n",
              "      <td id=\"T_f8e09_row0_col1\" class=\"data row0 col1\" >0.689585</td>\n",
              "    </tr>\n",
              "    <tr>\n",
              "      <th id=\"T_f8e09_level0_row1\" class=\"row_heading level0 row1\" >1</th>\n",
              "      <td id=\"T_f8e09_row1_col0\" class=\"data row1 col0\" >Linear SVM</td>\n",
              "      <td id=\"T_f8e09_row1_col1\" class=\"data row1 col1\" >0.543960</td>\n",
              "    </tr>\n",
              "    <tr>\n",
              "      <th id=\"T_f8e09_level0_row2\" class=\"row_heading level0 row2\" >2</th>\n",
              "      <td id=\"T_f8e09_row2_col0\" class=\"data row2 col0\" >Decision Tree</td>\n",
              "      <td id=\"T_f8e09_row2_col1\" class=\"data row2 col1\" >0.682521</td>\n",
              "    </tr>\n",
              "    <tr>\n",
              "      <th id=\"T_f8e09_level0_row3\" class=\"row_heading level0 row3\" >3</th>\n",
              "      <td id=\"T_f8e09_row3_col0\" class=\"data row3 col0\" >Logistic_Regression</td>\n",
              "      <td id=\"T_f8e09_row3_col1\" class=\"data row3 col1\" >0.756592</td>\n",
              "    </tr>\n",
              "  </tbody>\n",
              "</table>\n"
            ]
          },
          "metadata": {},
          "execution_count": 98
        }
      ]
    },
    {
      "cell_type": "code",
      "source": [
        "class SentimentAnalyzer:\n",
        "\n",
        "  def predict(self,model,input):\n",
        "    \"\"\"\n",
        "    Pre Processing\n",
        "    BOW transformation\n",
        "    TFIDF transformation\n",
        "\n",
        "    \"\"\"\n",
        "    pre_processed_features = processor.process(input)\n",
        "    bow_feature = final_word_vocab.transform(pre_processed_features)\n",
        "    tfIdf_feature = tfIdf_obj.transform(bow_feature)\n",
        "    return max(set(model.predict(tfIdf_feature)), key = list(model.predict(tfIdf_feature)).count)"
      ],
      "metadata": {
        "id": "dzXVqmWQ9DDp"
      },
      "execution_count": null,
      "outputs": []
    },
    {
      "cell_type": "code",
      "source": [
        "y_pred = model.predict(X_test)"
      ],
      "metadata": {
        "id": "LTO2SG4kAEGB"
      },
      "execution_count": null,
      "outputs": []
    },
    {
      "cell_type": "code",
      "source": [
        "filename = 'finalized_model.sav'\n",
        "pickle.dump(model, open(filename, 'wb'))"
      ],
      "metadata": {
        "colab": {
          "base_uri": "https://localhost:8080/"
        },
        "id": "tjyADidB9FfA",
        "outputId": "e2a8cfd7-bca8-432c-fffd-2648fa6c89ab"
      },
      "execution_count": null,
      "outputs": [
        {
          "output_type": "execute_result",
          "data": {
            "text/plain": [
              "1"
            ]
          },
          "metadata": {},
          "execution_count": 102
        }
      ]
    },
    {
      "cell_type": "code",
      "source": [
        "checker = SentimentAnalyzer()\n",
        "checker.predict(model,\"wow,all happy , such a relief thank god\")"
      ],
      "metadata": {
        "colab": {
          "base_uri": "https://localhost:8080/"
        },
        "id": "FrRGMFLlCkBy",
        "outputId": "3bac51ac-0983-4afa-a901-0d82cd5243c2"
      },
      "execution_count": null,
      "outputs": [
        {
          "output_type": "execute_result",
          "data": {
            "text/plain": [
              "0"
            ]
          },
          "metadata": {},
          "execution_count": 111
        }
      ]
    },
    {
      "cell_type": "code",
      "source": [
        "print(classification_report(y_test,y_pred, target_names=[\"1\",\"0\"]))"
      ],
      "metadata": {
        "colab": {
          "base_uri": "https://localhost:8080/"
        },
        "id": "4OiPN2Cy-2cc",
        "outputId": "f5abecce-d294-4d32-84a5-a0f65349bbd4"
      },
      "execution_count": null,
      "outputs": [
        {
          "output_type": "stream",
          "name": "stdout",
          "text": [
            "              precision    recall  f1-score   support\n",
            "\n",
            "           1       0.74      0.78      0.76      7152\n",
            "           0       0.77      0.73      0.75      7145\n",
            "\n",
            "    accuracy                           0.76     14297\n",
            "   macro avg       0.76      0.76      0.76     14297\n",
            "weighted avg       0.76      0.76      0.76     14297\n",
            "\n"
          ]
        }
      ]
    },
    {
      "cell_type": "code",
      "source": [
        "test_under"
      ],
      "metadata": {
        "id": "Tbib1TogXS6V",
        "outputId": "1979002f-8fc2-4eb6-cf3f-a0503063dbf3",
        "colab": {
          "base_uri": "https://localhost:8080/",
          "height": 424
        }
      },
      "execution_count": null,
      "outputs": [
        {
          "output_type": "execute_result",
          "data": {
            "text/plain": [
              "                                                   text  label\n",
              "1853  Rickenbacker is temporarily housing several na...      1\n",
              "2299   Texans pay surprise visit to Hurricane Harvey...      1\n",
              "2652  Either I just drove through a forming tornado ...      1\n",
              "3878  this wildfire smoke is no joke. been wheezing ...      1\n",
              "1619                   my car is in this fucking flood       1\n",
              "...                                                 ...    ...\n",
              "4498  Worried about wildfires? I am too. Help me mit...      0\n",
              "4533  Yea, growing food is going to help stop wildfi...      0\n",
              "4561  You can donate food to families impacted by th...      0\n",
              "4590  Yumi is donating FREE organic baby food to tho...      0\n",
              "4591  Yumi is donating FREE organic baby food to tho...      0\n",
              "\n",
              "[17872 rows x 2 columns]"
            ],
            "text/html": [
              "\n",
              "  <div id=\"df-8fc85601-c375-43ad-9d0f-dd4d6cc3e9f3\">\n",
              "    <div class=\"colab-df-container\">\n",
              "      <div>\n",
              "<style scoped>\n",
              "    .dataframe tbody tr th:only-of-type {\n",
              "        vertical-align: middle;\n",
              "    }\n",
              "\n",
              "    .dataframe tbody tr th {\n",
              "        vertical-align: top;\n",
              "    }\n",
              "\n",
              "    .dataframe thead th {\n",
              "        text-align: right;\n",
              "    }\n",
              "</style>\n",
              "<table border=\"1\" class=\"dataframe\">\n",
              "  <thead>\n",
              "    <tr style=\"text-align: right;\">\n",
              "      <th></th>\n",
              "      <th>text</th>\n",
              "      <th>label</th>\n",
              "    </tr>\n",
              "  </thead>\n",
              "  <tbody>\n",
              "    <tr>\n",
              "      <th>1853</th>\n",
              "      <td>Rickenbacker is temporarily housing several na...</td>\n",
              "      <td>1</td>\n",
              "    </tr>\n",
              "    <tr>\n",
              "      <th>2299</th>\n",
              "      <td>Texans pay surprise visit to Hurricane Harvey...</td>\n",
              "      <td>1</td>\n",
              "    </tr>\n",
              "    <tr>\n",
              "      <th>2652</th>\n",
              "      <td>Either I just drove through a forming tornado ...</td>\n",
              "      <td>1</td>\n",
              "    </tr>\n",
              "    <tr>\n",
              "      <th>3878</th>\n",
              "      <td>this wildfire smoke is no joke. been wheezing ...</td>\n",
              "      <td>1</td>\n",
              "    </tr>\n",
              "    <tr>\n",
              "      <th>1619</th>\n",
              "      <td>my car is in this fucking flood</td>\n",
              "      <td>1</td>\n",
              "    </tr>\n",
              "    <tr>\n",
              "      <th>...</th>\n",
              "      <td>...</td>\n",
              "      <td>...</td>\n",
              "    </tr>\n",
              "    <tr>\n",
              "      <th>4498</th>\n",
              "      <td>Worried about wildfires? I am too. Help me mit...</td>\n",
              "      <td>0</td>\n",
              "    </tr>\n",
              "    <tr>\n",
              "      <th>4533</th>\n",
              "      <td>Yea, growing food is going to help stop wildfi...</td>\n",
              "      <td>0</td>\n",
              "    </tr>\n",
              "    <tr>\n",
              "      <th>4561</th>\n",
              "      <td>You can donate food to families impacted by th...</td>\n",
              "      <td>0</td>\n",
              "    </tr>\n",
              "    <tr>\n",
              "      <th>4590</th>\n",
              "      <td>Yumi is donating FREE organic baby food to tho...</td>\n",
              "      <td>0</td>\n",
              "    </tr>\n",
              "    <tr>\n",
              "      <th>4591</th>\n",
              "      <td>Yumi is donating FREE organic baby food to tho...</td>\n",
              "      <td>0</td>\n",
              "    </tr>\n",
              "  </tbody>\n",
              "</table>\n",
              "<p>17872 rows × 2 columns</p>\n",
              "</div>\n",
              "      <button class=\"colab-df-convert\" onclick=\"convertToInteractive('df-8fc85601-c375-43ad-9d0f-dd4d6cc3e9f3')\"\n",
              "              title=\"Convert this dataframe to an interactive table.\"\n",
              "              style=\"display:none;\">\n",
              "        \n",
              "  <svg xmlns=\"http://www.w3.org/2000/svg\" height=\"24px\"viewBox=\"0 0 24 24\"\n",
              "       width=\"24px\">\n",
              "    <path d=\"M0 0h24v24H0V0z\" fill=\"none\"/>\n",
              "    <path d=\"M18.56 5.44l.94 2.06.94-2.06 2.06-.94-2.06-.94-.94-2.06-.94 2.06-2.06.94zm-11 1L8.5 8.5l.94-2.06 2.06-.94-2.06-.94L8.5 2.5l-.94 2.06-2.06.94zm10 10l.94 2.06.94-2.06 2.06-.94-2.06-.94-.94-2.06-.94 2.06-2.06.94z\"/><path d=\"M17.41 7.96l-1.37-1.37c-.4-.4-.92-.59-1.43-.59-.52 0-1.04.2-1.43.59L10.3 9.45l-7.72 7.72c-.78.78-.78 2.05 0 2.83L4 21.41c.39.39.9.59 1.41.59.51 0 1.02-.2 1.41-.59l7.78-7.78 2.81-2.81c.8-.78.8-2.07 0-2.86zM5.41 20L4 18.59l7.72-7.72 1.47 1.35L5.41 20z\"/>\n",
              "  </svg>\n",
              "      </button>\n",
              "      \n",
              "  <style>\n",
              "    .colab-df-container {\n",
              "      display:flex;\n",
              "      flex-wrap:wrap;\n",
              "      gap: 12px;\n",
              "    }\n",
              "\n",
              "    .colab-df-convert {\n",
              "      background-color: #E8F0FE;\n",
              "      border: none;\n",
              "      border-radius: 50%;\n",
              "      cursor: pointer;\n",
              "      display: none;\n",
              "      fill: #1967D2;\n",
              "      height: 32px;\n",
              "      padding: 0 0 0 0;\n",
              "      width: 32px;\n",
              "    }\n",
              "\n",
              "    .colab-df-convert:hover {\n",
              "      background-color: #E2EBFA;\n",
              "      box-shadow: 0px 1px 2px rgba(60, 64, 67, 0.3), 0px 1px 3px 1px rgba(60, 64, 67, 0.15);\n",
              "      fill: #174EA6;\n",
              "    }\n",
              "\n",
              "    [theme=dark] .colab-df-convert {\n",
              "      background-color: #3B4455;\n",
              "      fill: #D2E3FC;\n",
              "    }\n",
              "\n",
              "    [theme=dark] .colab-df-convert:hover {\n",
              "      background-color: #434B5C;\n",
              "      box-shadow: 0px 1px 3px 1px rgba(0, 0, 0, 0.15);\n",
              "      filter: drop-shadow(0px 1px 2px rgba(0, 0, 0, 0.3));\n",
              "      fill: #FFFFFF;\n",
              "    }\n",
              "  </style>\n",
              "\n",
              "      <script>\n",
              "        const buttonEl =\n",
              "          document.querySelector('#df-8fc85601-c375-43ad-9d0f-dd4d6cc3e9f3 button.colab-df-convert');\n",
              "        buttonEl.style.display =\n",
              "          google.colab.kernel.accessAllowed ? 'block' : 'none';\n",
              "\n",
              "        async function convertToInteractive(key) {\n",
              "          const element = document.querySelector('#df-8fc85601-c375-43ad-9d0f-dd4d6cc3e9f3');\n",
              "          const dataTable =\n",
              "            await google.colab.kernel.invokeFunction('convertToInteractive',\n",
              "                                                     [key], {});\n",
              "          if (!dataTable) return;\n",
              "\n",
              "          const docLinkHtml = 'Like what you see? Visit the ' +\n",
              "            '<a target=\"_blank\" href=https://colab.research.google.com/notebooks/data_table.ipynb>data table notebook</a>'\n",
              "            + ' to learn more about interactive tables.';\n",
              "          element.innerHTML = '';\n",
              "          dataTable['output_type'] = 'display_data';\n",
              "          await google.colab.output.renderOutput(dataTable, element);\n",
              "          const docLink = document.createElement('div');\n",
              "          docLink.innerHTML = docLinkHtml;\n",
              "          element.appendChild(docLink);\n",
              "        }\n",
              "      </script>\n",
              "    </div>\n",
              "  </div>\n",
              "  "
            ]
          },
          "metadata": {},
          "execution_count": 112
        }
      ]
    },
    {
      "cell_type": "code",
      "source": [
        "import pickle\n",
        "filename = 'finalized_model.sav'\n",
        "pickle.dump(model, open(filename, 'wb'))"
      ],
      "metadata": {
        "id": "ifXFH18YL_5T"
      },
      "execution_count": null,
      "outputs": []
    },
    {
      "cell_type": "code",
      "source": [
        "loaded_model = pickle.load(open(filename, 'rb'))\n",
        "result = loaded_model.score(X_test, y_test)\n",
        "result"
      ],
      "metadata": {
        "colab": {
          "base_uri": "https://localhost:8080/"
        },
        "id": "0DMV2W5DMLY7",
        "outputId": "75037ebc-28a7-42df-fe7f-07a8cc81e659"
      },
      "execution_count": null,
      "outputs": [
        {
          "output_type": "execute_result",
          "data": {
            "text/plain": [
              "0.7565922920892495"
            ]
          },
          "metadata": {},
          "execution_count": 107
        }
      ]
    }
  ]
}